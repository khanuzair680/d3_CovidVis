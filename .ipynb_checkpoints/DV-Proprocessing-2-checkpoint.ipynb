{
 "cells": [
  {
   "cell_type": "code",
   "execution_count": 41,
   "id": "d5125988",
   "metadata": {},
   "outputs": [],
   "source": [
    "import csv\n",
    "from collections import defaultdict\n",
    "\n",
    "# initialize an empty dictionary to store the data\n",
    "data = defaultdict(lambda: {\"private\": 0, \"public\": 0})"
   ]
  },
  {
   "cell_type": "code",
   "execution_count": 43,
   "id": "d16c5cb7",
   "metadata": {},
   "outputs": [
    {
     "name": "stdout",
     "output_type": "stream",
     "text": [
      "1950-01-01 {'private': 4188509.0, 'public': 2395194.0}\n",
      "1955-01-01 {'private': 5222437.0, 'public': 2816524.0}\n",
      "1960-01-01 {'private': 7410754.0, 'public': 3946876.0}\n",
      "1965-01-01 {'private': 10141061.0, 'public': 5224980.0}\n",
      "1970-01-01 {'private': 14278199.0, 'public': 7089064.0}\n",
      "1975-01-01 {'private': 20535151.0, 'public': 9407164.0}\n",
      "1980-01-01 {'private': 25831690.0, 'public': 11947348.0}\n",
      "1985-01-01 {'private': 31447302.0, 'public': 15401362.0}\n",
      "1990-01-01 {'private': 37786503.0, 'public': 19818648.0}\n",
      "1995-01-01 {'private': 45867791.0, 'public': 25995770.0}\n",
      "2000-01-01 {'private': 56682732.0, 'public': 35639954.0}\n",
      "2005-01-01 {'private': 68971793.0, 'public': 50549752.0}\n",
      "2010-01-01 {'private': 85485311.0, 'public': 65747308.0}\n",
      "2015-01-01 {'private': 100832743.0, 'public': 79833620.0}\n",
      "2020-01-01 {'private': 118202154.0, 'public': 91172868.0}\n"
     ]
    }
   ],
   "source": [
    "# open the CSV file and read the data\n",
    "with open(\"csv/processed/private_by_year.csv\", \"r\") as file:\n",
    "    reader = csv.DictReader(file)\n",
    "    for row in reader:\n",
    "        year = row[\"year\"]\n",
    "        count = float(row[\"Number of Student\"])\n",
    "        if row[\"private01\"] == \"0.0\":\n",
    "# #             print(row)\n",
    "            data[year][\"private\"] = count\n",
    "        else:\n",
    "            data[year][\"public\"] += count\n"
   ]
  },
  {
   "cell_type": "code",
   "execution_count": 13,
   "id": "67333a0e",
   "metadata": {},
   "outputs": [],
   "source": [
    "# write the merged data to a new CSV file\n",
    "with open(\"processed/private_public_by_year_processed.csv\", \"w\") as file:\n",
    "    writer = csv.DictWriter(file, fieldnames=[\"year\", \"private\", \"public\"])\n",
    "    writer.writeheader()\n",
    "    for year, counts in data.items():\n",
    "        writer.writerow({\"year\": year, \"private\": counts[\"private\"], \"public\": counts[\"public\"]})\n",
    "\n",
    "        "
   ]
  },
  {
   "cell_type": "code",
   "execution_count": 23,
   "id": "46688a4a",
   "metadata": {},
   "outputs": [
    {
     "name": "stdout",
     "output_type": "stream",
     "text": [
      "defaultdict(<function <lambda> at 0x10570baf0>, {'afghanistan': {'private': 196, 'public': 45}, 'albania': {'private': 113, 'public': 54}, 'algeria': {'private': 720, 'public': 0}, 'andorra': {'private': 7, 'public': 3}, 'angola': {'private': 90, 'public': 77}, 'argentina': {'private': 478, 'public': 552}, 'armenia': {'private': 345, 'public': 143}, 'aruba': {'private': 14, 'public': 0}, 'australia': {'private': 515, 'public': 317}, 'austria': {'private': 367, 'public': 200}, 'azerbaijan': {'private': 348, 'public': 72}, 'bahamas': {'private': 0, 'public': 0}, 'bahrain': {'private': 30, 'public': 47}, 'bangladesh': {'private': 306, 'public': 319}, 'barbados': {'private': 12, 'public': 0}, 'belarus': {'private': 560, 'public': 39}, 'belgium': {'private': 849, 'public': 268}, 'belize': {'private': 41, 'public': 4}, 'benin': {'private': 15, 'public': 108}, 'bhutan': {'private': 6, 'public': 7}, 'bolivia': {'private': 149, 'public': 224}, 'bosnia and herzegovina': {'private': 76, 'public': 86}, 'botswana': {'private': 25, 'public': 50}, 'brazil': {'private': 1913, 'public': 5160}, 'brunei darussalam': {'private': 21, 'public': 0}, 'bulgaria': {'private': 629, 'public': 92}, 'burkina faso': {'private': 55, 'public': 125}, 'burundi': {'private': 13, 'public': 25}, 'cabo verde': {'private': 3, 'public': 26}, 'cambodia': {'private': 230, 'public': 161}, 'cameroon': {'private': 148, 'public': 123}, 'canada': {'private': 1551, 'public': 373}, 'central african republic': {'private': 37, 'public': 0}, 'chad': {'private': 62, 'public': 6}, 'chile': {'private': 199, 'public': 482}, 'china': {'private': 9978, 'public': 1181}, 'china - hong kong': {'private': 91, 'public': 42}, 'colombia': {'private': 829, 'public': 1447}, 'comoros': {'private': 4, 'public': 0}, 'congo, dem rep': {'private': 279, 'public': 176}, 'congo, rep': {'private': 12, 'public': 6}, 'costa rica': {'private': 47, 'public': 334}, \"cote d'ivoire\": {'private': 121, 'public': 381}, 'croatia': {'private': 108, 'public': 70}, 'cuba': {'private': 537, 'public': 0}, 'cura��ao': {'private': 11, 'public': 0}, 'cyprus': {'private': 24, 'public': 213}, 'czech republic': {'private': 335, 'public': 92}, 'denmark': {'private': 524, 'public': 0}, 'djibouti': {'private': 3, 'public': 0}, 'dominican republic': {'private': 38, 'public': 260}, 'ecuador': {'private': 250, 'public': 227}, 'egypt': {'private': 266, 'public': 138}, 'el salvador': {'private': 29, 'public': 211}, 'equatorial guinea': {'private': 6, 'public': 0}, 'eritrea': {'private': 35, 'public': 0}, 'estonia': {'private': 99, 'public': 18}, 'eswatini': {'private': 27, 'public': 15}, 'ethiopia': {'private': 169, 'public': 154}, 'faroe islands': {'private': 12, 'public': 0}, 'fiji': {'private': 53, 'public': 16}, 'finland': {'private': 484, 'public': 21}, 'france': {'private': 3418, 'public': 1563}, 'france - french guyana': {'private': 28, 'public': 0}, 'france - french polynesia': {'private': 7, 'public': 0}, 'france - martinique': {'private': 17, 'public': 0}, 'france - new caledonia': {'private': 7, 'public': 0}, 'france - reunion': {'private': 17, 'public': 0}, 'gabon': {'private': 88, 'public': 29}, 'georgia': {'private': 239, 'public': 126}, 'germany': {'private': 3116, 'public': 859}, 'ghana': {'private': 234, 'public': 255}, 'greece': {'private': 389, 'public': 15}, 'grenada': {'private': 13, 'public': 9}, 'guatemala': {'private': 113, 'public': 125}, 'guinea': {'private': 89, 'public': 85}, 'guinea bissau': {'private': 36, 'public': 7}, 'guyana': {'private': 12, 'public': 11}, 'haiti': {'private': 20, 'public': 137}, 'holy see': {'private': 45, 'public': 227}, 'honduras': {'private': 59, 'public': 81}, 'hungary': {'private': 603, 'public': 115}, 'iceland': {'private': 83, 'public': 25}, 'india': {'private': 3919, 'public': 1387}, 'indonesia': {'private': 961, 'public': 5552}, 'iran': {'private': 1413, 'public': 280}, 'iraq': {'private': 388, 'public': 170}, 'ireland': {'private': 429, 'public': 122}, 'israel': {'private': 526, 'public': 125}, 'italy': {'private': 812, 'public': 257}, 'italy\"': {'private': 3, 'public': 0}, 'jamaica': {'private': 43, 'public': 38}, 'japan': {'private': 2232, 'public': 6374}, 'jordan': {'private': 68, 'public': 115}, 'kazakhstan': {'private': 615, 'public': 314}, 'kenya': {'private': 215, 'public': 183}, 'korea, dem people���s rep': {'private': 855, 'public': 0}, 'korea, rep': {'private': 726, 'public': 1840}, 'kuwait': {'private': 51, 'public': 24}, 'kyrgyz republic': {'private': 223, 'public': 36}, 'lao pdr': {'private': 14, 'public': 24}, 'latvia': {'private': 196, 'public': 69}, 'lebanon': {'private': 14, 'public': 331}, 'lesotho': {'private': 15, 'public': 3}, 'liberia': {'private': 24, 'public': 33}, 'libya': {'private': 112, 'public': 7}, 'liechtenstein': {'private': 12, 'public': 12}, 'lithuania': {'private': 221, 'public': 22}, 'luxembourg': {'private': 15, 'public': 0}, 'madagascar': {'private': 207, 'public': 142}, 'malawi': {'private': 68, 'public': 63}, 'malaysia': {'private': 180, 'public': 328}, 'maldives': {'private': 14, 'public': 21}, 'mali': {'private': 51, 'public': 8}, 'malta': {'private': 22, 'public': 8}, 'mauritania': {'private': 30, 'public': 3}, 'mauritius': {'private': 49, 'public': 0}, 'mexico': {'private': 2320, 'public': 3600}, 'moldova': {'private': 160, 'public': 42}, 'monaco': {'private': 4, 'public': 7}, 'mongolia': {'private': 149, 'public': 202}, 'montenegro': {'private': 10, 'public': 23}, 'morocco': {'private': 433, 'public': 490}, 'mozambique': {'private': 70, 'public': 86}, 'myanmar': {'private': 658, 'public': 0}, 'namibia': {'private': 14, 'public': 10}, 'nepal': {'private': 58, 'public': 0}, 'netherlands': {'private': 415, 'public': 331}, 'new zealand': {'private': 278, 'public': 54}, 'nicaragua': {'private': 99, 'public': 244}, 'niger': {'private': 69, 'public': 12}, 'nigeria': {'private': 600, 'public': 163}, 'north macedonia': {'private': 36, 'public': 44}, 'norway': {'private': 412, 'public': 125}, 'oman': {'private': 173, 'public': 100}, 'pakistan': {'private': 661, 'public': 327}, 'palestine': {'private': 129, 'public': 93}, 'panama': {'private': 70, 'public': 111}, 'papua new guinea': {'private': 47, 'public': 17}, 'paraguay': {'private': 60, 'public': 264}, 'peru': {'private': 472, 'public': 511}, 'peru\"': {'private': 3, 'public': 3}, 'philippines': {'private': 1667, 'public': 7428}, 'poland': {'private': 1696, 'public': 1090}, 'portugal': {'private': 385, 'public': 413}, 'qatar': {'private': 18, 'public': 0}, 'romania': {'private': 840, 'public': 181}, 'romania\"': {'private': 9, 'public': 0}, 'russian federation': {'private': 7828, 'public': 855}, 'rwanda': {'private': 44, 'public': 51}, 'saint kitts and nevis': {'private': 7, 'public': 0}, 'samoa': {'private': 17, 'public': 0}, 'san marino': {'private': 8, 'public': 0}, 'sao tome and principe': {'private': 5, 'public': 0}, 'saudi arabia': {'private': 191, 'public': 149}, 'senegal': {'private': 117, 'public': 226}, 'serbia': {'private': 76, 'public': 37}, 'seychelles': {'private': 3, 'public': 0}, 'sierra leone': {'private': 38, 'public': 4}, 'singapore': {'private': 78, 'public': 27}, 'slovak republic': {'private': 264, 'public': 39}, 'slovenia': {'private': 34, 'public': 134}, 'solomon islands': {'private': 19, 'public': 0}, 'somalia': {'private': 27, 'public': 124}, 'south africa': {'private': 475, 'public': 145}, 'south sudan': {'private': 28, 'public': 0}, 'spain': {'private': 1034, 'public': 371}, 'sri lanka': {'private': 207, 'public': 13}, 'sudan': {'private': 229, 'public': 245}, 'suriname': {'private': 16, 'public': 0}, 'sweden': {'private': 536, 'public': 128}, 'switzerland': {'private': 268, 'public': 39}, 'syrian arab republic': {'private': 84, 'public': 36}, 'taiwan': {'private': 533, 'public': 977}, 'tajikistan': {'private': 199, 'public': 5}, 'tanzania': {'private': 162, 'public': 98}, 'thailand': {'private': 895, 'public': 435}, 'the gambia': {'private': 5, 'public': 0}, 'timor leste': {'private': 7, 'public': 0}, 'togo': {'private': 40, 'public': 62}, 'tonga': {'private': 10, 'public': 0}, 'trinidad and tobago': {'private': 19, 'public': 49}, 'tunisia': {'private': 99, 'public': 125}, 'turkey': {'private': 961, 'public': 259}, 'turkmenistan': {'private': 139, 'public': 0}, 'uganda': {'private': 56, 'public': 149}, 'ukraine': {'private': 2912, 'public': 396}, 'united arab emirates': {'private': 112, 'public': 132}, 'united kingdom': {'private': 3502, 'public': 95}, 'united states': {'private': 8362, 'public': 11844}, 'uruguay': {'private': 32, 'public': 119}, 'uzbekistan': {'private': 647, 'public': 0}, 'venezuela': {'private': 484, 'public': 266}, 'vietnam': {'private': 991, 'public': 197}, 'yemen': {'private': 47, 'public': 26}, 'zambia': {'private': 66, 'public': 98}, 'zimbabwe': {'private': 58, 'public': 28}})\n"
     ]
    }
   ],
   "source": [
    "# initialize an empty dictionary to store the data\n",
    "data = defaultdict(lambda: {\"private\": 0, \"public\": 0})\n",
    "# open the CSV file and read the data\n",
    "with open(\"csv/private_by_country.csv\", \"r\") as file:\n",
    "    reader = csv.DictReader(file)\n",
    "    for row in reader:\n",
    "        year = row[\"country\"]\n",
    "        count = int(float(row[\"count\"]))\n",
    "        if row[\"private01\"] == \"0.0\":\n",
    "#             print(row)\n",
    "            data[year][\"private\"] = count\n",
    "        else:\n",
    "            data[year][\"public\"] += count\n",
    "            \n",
    "print(data)"
   ]
  },
  {
   "cell_type": "code",
   "execution_count": 25,
   "id": "96267153",
   "metadata": {},
   "outputs": [],
   "source": [
    "# write the merged data to a new CSV file\n",
    "with open(\"country_private_public_processed.csv\", \"w\") as file:\n",
    "    writer = csv.DictWriter(file, fieldnames=[\"country\", \"private\", \"public\"])\n",
    "    writer.writeheader()\n",
    "    for country, counts in data.items():\n",
    "        writer.writerow({\"country\": country, \"private\": counts[\"private\"], \"public\": counts[\"public\"]})\n"
   ]
  },
  {
   "cell_type": "code",
   "execution_count": null,
   "id": "e00002c7",
   "metadata": {},
   "outputs": [],
   "source": []
  }
 ],
 "metadata": {
  "kernelspec": {
   "display_name": "Python 3 (ipykernel)",
   "language": "python",
   "name": "python3"
  },
  "language_info": {
   "codemirror_mode": {
    "name": "ipython",
    "version": 3
   },
   "file_extension": ".py",
   "mimetype": "text/x-python",
   "name": "python",
   "nbconvert_exporter": "python",
   "pygments_lexer": "ipython3",
   "version": "3.9.10"
  }
 },
 "nbformat": 4,
 "nbformat_minor": 5
}
